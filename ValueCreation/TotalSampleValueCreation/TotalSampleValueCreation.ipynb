{
 "cells": [
  {
   "cell_type": "code",
   "id": "initial_id",
   "metadata": {
    "collapsed": true,
    "ExecuteTime": {
     "end_time": "2025-10-04T18:09:20.597529Z",
     "start_time": "2025-10-04T18:09:20.297552Z"
    }
   },
   "source": [
    "# Value Creation Decomposition Toolkit (aligned to Achleitner et al. 2010; Achleitner, Braun & Puche 2015; Söffge & Braun 2017)\n",
    "\n",
    "import pandas as pd\n",
    "from pathlib import Path\n",
    "\n",
    "# Read the CSV file and parse dates\n",
    "def find_upwards(rel_path: Path, max_up: int = 8) -> Path:\n",
    "    here = Path.cwd()\n",
    "    for parent in [here, *here.parents][: max_up + 1]:\n",
    "        candidate = (parent / rel_path)\n",
    "        if candidate.exists():\n",
    "            return candidate.resolve()\n",
    "    # Helpful diagnostics\n",
    "    raise FileNotFoundError(\n",
    "        f\"Couldn't locate '{rel_path.as_posix()}' from {here} by walking up {max_up} levels.\\n\"\n",
    "        f\"- Current working directory: {here}\\n\"\n",
    "        f\"- Checked: {[str((p / rel_path)) for p in [here, *here.parents][: max_up + 1]]}\"\n",
    "    )\n",
    "\n",
    "TARGET_CSV = (find_upwards(Path(\"ValueCreation\")) / \"Data\" / \"working.csv\")\n",
    "\n",
    "# Load\n",
    "df = pd.read_csv(TARGET_CSV)\n",
    "df['reference_date'] = pd.to_datetime(df['reference_date'])\n",
    "\n",
    "# Compute row-level ratios and placeholders\n",
    "df['ebitda_margin']    = df['ebitda'] / df['revenue']\n",
    "df['ev_to_ebitda']    = df['enterprise_value'] / df['ebitda']\n",
    "df['de_ratio']        = df['net_debt'] / df['equity']\n",
    "df['dividends']       = 0.01 * df['equity']\n",
    "df['capex_injection'] = 0.01 * df['equity']\n",
    "\n",
    "interest_rate = 0.05\n",
    "\n",
    "grouped = df.groupby('deal_id')\n",
    "\n",
    "for deal_id, group in grouped:\n",
    "    group = group.sort_values('reference_date')\n",
    "    entry_date = group.iloc[0]['reference_date']\n",
    "    exit_date  = group.iloc[1]['reference_date']\n",
    "    # Compute holding period in years\n",
    "    hold_days  = (exit_date - entry_date).days\n",
    "    hold_years = hold_days / 365.0\n",
    "\n",
    "    # Average debt/equity across entry and exit\n",
    "    avg_de = group['de_ratio'].mean()\n",
    "\n",
    "    # Cost of debt factor (compounded at 5%)\n",
    "    cost_debt = (1 + interest_rate) ** hold_years\n",
    "\n",
    "    # Assign back to the DataFrame (on both rows of the deal)\n",
    "    df.loc[group.index, 'holding_period_years']  = hold_years\n",
    "    df.loc[group.index, 'avg_de_ratio']          = avg_de\n",
    "    df.loc[group.index, 'cost_of_debt_factor']   = cost_debt\n",
    "\n",
    "\n"
   ],
   "outputs": [],
   "execution_count": 4
  }
 ],
 "metadata": {
  "kernelspec": {
   "display_name": "Python 3",
   "language": "python",
   "name": "python3"
  },
  "language_info": {
   "codemirror_mode": {
    "name": "ipython",
    "version": 2
   },
   "file_extension": ".py",
   "mimetype": "text/x-python",
   "name": "python",
   "nbconvert_exporter": "python",
   "pygments_lexer": "ipython2",
   "version": "2.7.6"
  }
 },
 "nbformat": 4,
 "nbformat_minor": 5
}
